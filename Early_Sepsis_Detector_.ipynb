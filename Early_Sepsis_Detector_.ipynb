{
 "cells": [
  {
   "cell_type": "code",
   "execution_count": null,
   "metadata": {},
   "outputs": [],
   "source": []
  },
  {
   "cell_type": "code",
   "execution_count": 65,
   "metadata": {},
   "outputs": [],
   "source": [
    "from os import listdir\n",
    "import seaborn as sns\n",
    "from pylab import rcParams\n",
    "import csv\n",
    "import numpy as np \n",
    "import pandas as pd\n",
    "import matplotlib.pyplot as plt\n",
    "%matplotlib inline\n"
   ]
  },
  {
   "cell_type": "code",
   "execution_count": 66,
   "metadata": {},
   "outputs": [],
   "source": [
    "import seaborn as sns"
   ]
  },
  {
   "cell_type": "code",
   "execution_count": null,
   "metadata": {},
   "outputs": [],
   "source": []
  },
  {
   "cell_type": "code",
   "execution_count": 67,
   "metadata": {},
   "outputs": [],
   "source": [
    "a_traincsv = listdir('dataset/raw/training_setA/training')\n",
    "b_traincsv = listdir('dataset/raw/training_setB')"
   ]
  },
  {
   "cell_type": "code",
   "execution_count": null,
   "metadata": {},
   "outputs": [],
   "source": []
  },
  {
   "cell_type": "code",
   "execution_count": 17,
   "metadata": {},
   "outputs": [],
   "source": [
    "with open('train_patient.csv', 'w') as csvoutput:\n",
    "  writer = csv.writer(csvoutput, lineterminator='\\n')\n",
    "\n",
    "  for ind, csv_name in enumerate(a_traincsv):\n",
    "    with open('dataset/raw/training_setA/training/'+ csv_name,'r') as csvinput:\n",
    "      reader = csv.reader(csvinput, delimiter='|')\n",
    "      all = []\n",
    "      if ind ==0 :\n",
    "        row = next(reader)\n",
    "        row.append('Patient_id')\n",
    "        all.append(row)\n",
    "      else:\n",
    "        row = next(reader)\n",
    "\n",
    "      for i,row in enumerate(reader):\n",
    "        row.append(ind)\n",
    "        all.append(row)\n",
    "      writer.writerows(all)\n",
    "    \n",
    "  num = ind \n",
    "  for inde, csv_name in enumerate(b_traincsv):\n",
    "    if inde < 15000:\n",
    "      num = num+1\n",
    "      with open('dataset/raw/training_setB/'+ csv_name,'r') as csvinput:\n",
    "        reader = csv.reader(csvinput, delimiter='|')\n",
    "        all = []\n",
    "        row = next(reader)\n",
    "        for i,row in enumerate(reader):\n",
    "          row.append(num)\n",
    "          all.append(row)\n",
    "        \n",
    "        writer.writerows(all)\n",
    "        \n",
    "\n",
    "        \n",
    "        \n",
    "with open('val_patient.csv', 'w') as csvoutput:\n",
    "  writer = csv.writer(csvoutput, lineterminator='\\n')\n",
    "\n",
    "  for inde, csv_name in enumerate(b_traincsv):\n",
    "    if inde >=15000:\n",
    "      with open('dataset/raw/training_setB/'+ csv_name,'r') as csvinput:\n",
    "        reader = csv.reader(csvinput, delimiter='|')\n",
    "        all = []\n",
    "        if inde ==15000 :\n",
    "          row = next(reader)\n",
    "          row.append('Patient_id')\n",
    "          all.append(row)\n",
    "        else:\n",
    "          row = next(reader)\n",
    "        for i,row in enumerate(reader):\n",
    "          row.append(inde)\n",
    "          all.append(row)\n",
    "\n",
    "        writer.writerows(all)"
   ]
  },
  {
   "cell_type": "code",
   "execution_count": null,
   "metadata": {},
   "outputs": [],
   "source": []
  },
  {
   "cell_type": "code",
   "execution_count": 68,
   "metadata": {},
   "outputs": [],
   "source": [
    "df_train = pd.read_csv('dataset/data_csv/train_patient.csv')"
   ]
  },
  {
   "cell_type": "code",
   "execution_count": 69,
   "metadata": {},
   "outputs": [],
   "source": [
    "df_val = pd.read_csv('dataset/data_csv/val_patient.csv')"
   ]
  },
  {
   "cell_type": "code",
   "execution_count": 70,
   "metadata": {},
   "outputs": [
    {
     "data": {
      "text/plain": [
       "(1169026, 42)"
      ]
     },
     "execution_count": 70,
     "metadata": {},
     "output_type": "execute_result"
    }
   ],
   "source": [
    "df_train.shape"
   ]
  },
  {
   "cell_type": "code",
   "execution_count": 71,
   "metadata": {},
   "outputs": [
    {
     "data": {
      "text/plain": [
       "(191006, 42)"
      ]
     },
     "execution_count": 71,
     "metadata": {},
     "output_type": "execute_result"
    }
   ],
   "source": [
    "df_val.shape"
   ]
  },
  {
   "cell_type": "code",
   "execution_count": null,
   "metadata": {},
   "outputs": [],
   "source": []
  },
  {
   "cell_type": "code",
   "execution_count": 72,
   "metadata": {},
   "outputs": [
    {
     "data": {
      "text/html": [
       "<div>\n",
       "<style scoped>\n",
       "    .dataframe tbody tr th:only-of-type {\n",
       "        vertical-align: middle;\n",
       "    }\n",
       "\n",
       "    .dataframe tbody tr th {\n",
       "        vertical-align: top;\n",
       "    }\n",
       "\n",
       "    .dataframe thead th {\n",
       "        text-align: right;\n",
       "    }\n",
       "</style>\n",
       "<table border=\"1\" class=\"dataframe\">\n",
       "  <thead>\n",
       "    <tr style=\"text-align: right;\">\n",
       "      <th></th>\n",
       "      <th>HR</th>\n",
       "      <th>O2Sat</th>\n",
       "      <th>Temp</th>\n",
       "      <th>SBP</th>\n",
       "      <th>MAP</th>\n",
       "      <th>DBP</th>\n",
       "      <th>Resp</th>\n",
       "      <th>EtCO2</th>\n",
       "      <th>BaseExcess</th>\n",
       "      <th>HCO3</th>\n",
       "      <th>...</th>\n",
       "      <th>Fibrinogen</th>\n",
       "      <th>Platelets</th>\n",
       "      <th>Age</th>\n",
       "      <th>Gender</th>\n",
       "      <th>Unit1</th>\n",
       "      <th>Unit2</th>\n",
       "      <th>HospAdmTime</th>\n",
       "      <th>ICULOS</th>\n",
       "      <th>SepsisLabel</th>\n",
       "      <th>Patient_id</th>\n",
       "    </tr>\n",
       "  </thead>\n",
       "  <tbody>\n",
       "    <tr>\n",
       "      <th>0</th>\n",
       "      <td>NaN</td>\n",
       "      <td>NaN</td>\n",
       "      <td>NaN</td>\n",
       "      <td>NaN</td>\n",
       "      <td>NaN</td>\n",
       "      <td>NaN</td>\n",
       "      <td>NaN</td>\n",
       "      <td>NaN</td>\n",
       "      <td>NaN</td>\n",
       "      <td>NaN</td>\n",
       "      <td>...</td>\n",
       "      <td>NaN</td>\n",
       "      <td>NaN</td>\n",
       "      <td>47.4</td>\n",
       "      <td>1</td>\n",
       "      <td>NaN</td>\n",
       "      <td>NaN</td>\n",
       "      <td>-5.05</td>\n",
       "      <td>1</td>\n",
       "      <td>0</td>\n",
       "      <td>0</td>\n",
       "    </tr>\n",
       "    <tr>\n",
       "      <th>1</th>\n",
       "      <td>72.0</td>\n",
       "      <td>96.0</td>\n",
       "      <td>NaN</td>\n",
       "      <td>106.0</td>\n",
       "      <td>77.0</td>\n",
       "      <td>60.0</td>\n",
       "      <td>17.0</td>\n",
       "      <td>NaN</td>\n",
       "      <td>NaN</td>\n",
       "      <td>NaN</td>\n",
       "      <td>...</td>\n",
       "      <td>NaN</td>\n",
       "      <td>NaN</td>\n",
       "      <td>47.4</td>\n",
       "      <td>1</td>\n",
       "      <td>NaN</td>\n",
       "      <td>NaN</td>\n",
       "      <td>-5.05</td>\n",
       "      <td>2</td>\n",
       "      <td>0</td>\n",
       "      <td>0</td>\n",
       "    </tr>\n",
       "    <tr>\n",
       "      <th>2</th>\n",
       "      <td>73.0</td>\n",
       "      <td>97.0</td>\n",
       "      <td>NaN</td>\n",
       "      <td>109.0</td>\n",
       "      <td>79.0</td>\n",
       "      <td>62.0</td>\n",
       "      <td>16.0</td>\n",
       "      <td>NaN</td>\n",
       "      <td>NaN</td>\n",
       "      <td>NaN</td>\n",
       "      <td>...</td>\n",
       "      <td>NaN</td>\n",
       "      <td>NaN</td>\n",
       "      <td>47.4</td>\n",
       "      <td>1</td>\n",
       "      <td>NaN</td>\n",
       "      <td>NaN</td>\n",
       "      <td>-5.05</td>\n",
       "      <td>3</td>\n",
       "      <td>0</td>\n",
       "      <td>0</td>\n",
       "    </tr>\n",
       "    <tr>\n",
       "      <th>3</th>\n",
       "      <td>75.0</td>\n",
       "      <td>94.0</td>\n",
       "      <td>36.39</td>\n",
       "      <td>112.0</td>\n",
       "      <td>84.0</td>\n",
       "      <td>65.0</td>\n",
       "      <td>17.0</td>\n",
       "      <td>NaN</td>\n",
       "      <td>NaN</td>\n",
       "      <td>NaN</td>\n",
       "      <td>...</td>\n",
       "      <td>NaN</td>\n",
       "      <td>NaN</td>\n",
       "      <td>47.4</td>\n",
       "      <td>1</td>\n",
       "      <td>NaN</td>\n",
       "      <td>NaN</td>\n",
       "      <td>-5.05</td>\n",
       "      <td>4</td>\n",
       "      <td>0</td>\n",
       "      <td>0</td>\n",
       "    </tr>\n",
       "    <tr>\n",
       "      <th>4</th>\n",
       "      <td>81.0</td>\n",
       "      <td>95.0</td>\n",
       "      <td>NaN</td>\n",
       "      <td>117.0</td>\n",
       "      <td>85.0</td>\n",
       "      <td>68.0</td>\n",
       "      <td>16.0</td>\n",
       "      <td>NaN</td>\n",
       "      <td>NaN</td>\n",
       "      <td>NaN</td>\n",
       "      <td>...</td>\n",
       "      <td>NaN</td>\n",
       "      <td>NaN</td>\n",
       "      <td>47.4</td>\n",
       "      <td>1</td>\n",
       "      <td>NaN</td>\n",
       "      <td>NaN</td>\n",
       "      <td>-5.05</td>\n",
       "      <td>5</td>\n",
       "      <td>0</td>\n",
       "      <td>0</td>\n",
       "    </tr>\n",
       "  </tbody>\n",
       "</table>\n",
       "<p>5 rows × 42 columns</p>\n",
       "</div>"
      ],
      "text/plain": [
       "     HR  O2Sat   Temp    SBP   MAP   DBP  Resp  EtCO2  BaseExcess  HCO3  ...  \\\n",
       "0   NaN    NaN    NaN    NaN   NaN   NaN   NaN    NaN         NaN   NaN  ...   \n",
       "1  72.0   96.0    NaN  106.0  77.0  60.0  17.0    NaN         NaN   NaN  ...   \n",
       "2  73.0   97.0    NaN  109.0  79.0  62.0  16.0    NaN         NaN   NaN  ...   \n",
       "3  75.0   94.0  36.39  112.0  84.0  65.0  17.0    NaN         NaN   NaN  ...   \n",
       "4  81.0   95.0    NaN  117.0  85.0  68.0  16.0    NaN         NaN   NaN  ...   \n",
       "\n",
       "   Fibrinogen  Platelets   Age  Gender  Unit1  Unit2  HospAdmTime  ICULOS  \\\n",
       "0         NaN        NaN  47.4       1    NaN    NaN        -5.05       1   \n",
       "1         NaN        NaN  47.4       1    NaN    NaN        -5.05       2   \n",
       "2         NaN        NaN  47.4       1    NaN    NaN        -5.05       3   \n",
       "3         NaN        NaN  47.4       1    NaN    NaN        -5.05       4   \n",
       "4         NaN        NaN  47.4       1    NaN    NaN        -5.05       5   \n",
       "\n",
       "   SepsisLabel  Patient_id  \n",
       "0            0           0  \n",
       "1            0           0  \n",
       "2            0           0  \n",
       "3            0           0  \n",
       "4            0           0  \n",
       "\n",
       "[5 rows x 42 columns]"
      ]
     },
     "execution_count": 72,
     "metadata": {},
     "output_type": "execute_result"
    }
   ],
   "source": [
    "df_train.head()"
   ]
  },
  {
   "cell_type": "code",
   "execution_count": 73,
   "metadata": {},
   "outputs": [
    {
     "data": {
      "text/html": [
       "<div>\n",
       "<style scoped>\n",
       "    .dataframe tbody tr th:only-of-type {\n",
       "        vertical-align: middle;\n",
       "    }\n",
       "\n",
       "    .dataframe tbody tr th {\n",
       "        vertical-align: top;\n",
       "    }\n",
       "\n",
       "    .dataframe thead th {\n",
       "        text-align: right;\n",
       "    }\n",
       "</style>\n",
       "<table border=\"1\" class=\"dataframe\">\n",
       "  <thead>\n",
       "    <tr style=\"text-align: right;\">\n",
       "      <th></th>\n",
       "      <th>HR</th>\n",
       "      <th>O2Sat</th>\n",
       "      <th>Temp</th>\n",
       "      <th>SBP</th>\n",
       "      <th>MAP</th>\n",
       "      <th>DBP</th>\n",
       "      <th>Resp</th>\n",
       "      <th>EtCO2</th>\n",
       "      <th>BaseExcess</th>\n",
       "      <th>HCO3</th>\n",
       "      <th>...</th>\n",
       "      <th>Fibrinogen</th>\n",
       "      <th>Platelets</th>\n",
       "      <th>Age</th>\n",
       "      <th>Gender</th>\n",
       "      <th>Unit1</th>\n",
       "      <th>Unit2</th>\n",
       "      <th>HospAdmTime</th>\n",
       "      <th>ICULOS</th>\n",
       "      <th>SepsisLabel</th>\n",
       "      <th>Patient_id</th>\n",
       "    </tr>\n",
       "  </thead>\n",
       "  <tbody>\n",
       "    <tr>\n",
       "      <th>0</th>\n",
       "      <td>NaN</td>\n",
       "      <td>NaN</td>\n",
       "      <td>NaN</td>\n",
       "      <td>NaN</td>\n",
       "      <td>NaN</td>\n",
       "      <td>NaN</td>\n",
       "      <td>NaN</td>\n",
       "      <td>NaN</td>\n",
       "      <td>NaN</td>\n",
       "      <td>NaN</td>\n",
       "      <td>...</td>\n",
       "      <td>NaN</td>\n",
       "      <td>NaN</td>\n",
       "      <td>64</td>\n",
       "      <td>1</td>\n",
       "      <td>0.0</td>\n",
       "      <td>1.0</td>\n",
       "      <td>-16.12</td>\n",
       "      <td>1</td>\n",
       "      <td>0</td>\n",
       "      <td>15000</td>\n",
       "    </tr>\n",
       "    <tr>\n",
       "      <th>1</th>\n",
       "      <td>NaN</td>\n",
       "      <td>NaN</td>\n",
       "      <td>NaN</td>\n",
       "      <td>NaN</td>\n",
       "      <td>NaN</td>\n",
       "      <td>NaN</td>\n",
       "      <td>NaN</td>\n",
       "      <td>NaN</td>\n",
       "      <td>NaN</td>\n",
       "      <td>NaN</td>\n",
       "      <td>...</td>\n",
       "      <td>NaN</td>\n",
       "      <td>NaN</td>\n",
       "      <td>64</td>\n",
       "      <td>1</td>\n",
       "      <td>0.0</td>\n",
       "      <td>1.0</td>\n",
       "      <td>-16.12</td>\n",
       "      <td>2</td>\n",
       "      <td>0</td>\n",
       "      <td>15000</td>\n",
       "    </tr>\n",
       "    <tr>\n",
       "      <th>2</th>\n",
       "      <td>107.0</td>\n",
       "      <td>97.0</td>\n",
       "      <td>NaN</td>\n",
       "      <td>113.0</td>\n",
       "      <td>68.0</td>\n",
       "      <td>49.0</td>\n",
       "      <td>13.0</td>\n",
       "      <td>NaN</td>\n",
       "      <td>NaN</td>\n",
       "      <td>NaN</td>\n",
       "      <td>...</td>\n",
       "      <td>NaN</td>\n",
       "      <td>NaN</td>\n",
       "      <td>64</td>\n",
       "      <td>1</td>\n",
       "      <td>0.0</td>\n",
       "      <td>1.0</td>\n",
       "      <td>-16.12</td>\n",
       "      <td>3</td>\n",
       "      <td>0</td>\n",
       "      <td>15000</td>\n",
       "    </tr>\n",
       "    <tr>\n",
       "      <th>3</th>\n",
       "      <td>102.0</td>\n",
       "      <td>100.0</td>\n",
       "      <td>NaN</td>\n",
       "      <td>125.5</td>\n",
       "      <td>77.5</td>\n",
       "      <td>55.5</td>\n",
       "      <td>11.0</td>\n",
       "      <td>NaN</td>\n",
       "      <td>NaN</td>\n",
       "      <td>NaN</td>\n",
       "      <td>...</td>\n",
       "      <td>NaN</td>\n",
       "      <td>NaN</td>\n",
       "      <td>64</td>\n",
       "      <td>1</td>\n",
       "      <td>0.0</td>\n",
       "      <td>1.0</td>\n",
       "      <td>-16.12</td>\n",
       "      <td>4</td>\n",
       "      <td>0</td>\n",
       "      <td>15000</td>\n",
       "    </tr>\n",
       "    <tr>\n",
       "      <th>4</th>\n",
       "      <td>NaN</td>\n",
       "      <td>NaN</td>\n",
       "      <td>NaN</td>\n",
       "      <td>NaN</td>\n",
       "      <td>NaN</td>\n",
       "      <td>NaN</td>\n",
       "      <td>NaN</td>\n",
       "      <td>NaN</td>\n",
       "      <td>NaN</td>\n",
       "      <td>NaN</td>\n",
       "      <td>...</td>\n",
       "      <td>203.0</td>\n",
       "      <td>88.0</td>\n",
       "      <td>64</td>\n",
       "      <td>1</td>\n",
       "      <td>0.0</td>\n",
       "      <td>1.0</td>\n",
       "      <td>-16.12</td>\n",
       "      <td>5</td>\n",
       "      <td>0</td>\n",
       "      <td>15000</td>\n",
       "    </tr>\n",
       "  </tbody>\n",
       "</table>\n",
       "<p>5 rows × 42 columns</p>\n",
       "</div>"
      ],
      "text/plain": [
       "      HR  O2Sat  Temp    SBP   MAP   DBP  Resp  EtCO2  BaseExcess  HCO3  ...  \\\n",
       "0    NaN    NaN   NaN    NaN   NaN   NaN   NaN    NaN         NaN   NaN  ...   \n",
       "1    NaN    NaN   NaN    NaN   NaN   NaN   NaN    NaN         NaN   NaN  ...   \n",
       "2  107.0   97.0   NaN  113.0  68.0  49.0  13.0    NaN         NaN   NaN  ...   \n",
       "3  102.0  100.0   NaN  125.5  77.5  55.5  11.0    NaN         NaN   NaN  ...   \n",
       "4    NaN    NaN   NaN    NaN   NaN   NaN   NaN    NaN         NaN   NaN  ...   \n",
       "\n",
       "   Fibrinogen  Platelets  Age  Gender  Unit1  Unit2  HospAdmTime  ICULOS  \\\n",
       "0         NaN        NaN   64       1    0.0    1.0       -16.12       1   \n",
       "1         NaN        NaN   64       1    0.0    1.0       -16.12       2   \n",
       "2         NaN        NaN   64       1    0.0    1.0       -16.12       3   \n",
       "3         NaN        NaN   64       1    0.0    1.0       -16.12       4   \n",
       "4       203.0       88.0   64       1    0.0    1.0       -16.12       5   \n",
       "\n",
       "   SepsisLabel  Patient_id  \n",
       "0            0       15000  \n",
       "1            0       15000  \n",
       "2            0       15000  \n",
       "3            0       15000  \n",
       "4            0       15000  \n",
       "\n",
       "[5 rows x 42 columns]"
      ]
     },
     "execution_count": 73,
     "metadata": {},
     "output_type": "execute_result"
    }
   ],
   "source": [
    "df_val.head()"
   ]
  },
  {
   "cell_type": "code",
   "execution_count": 74,
   "metadata": {},
   "outputs": [
    {
     "name": "stdout",
     "output_type": "stream",
     "text": [
      "<class 'pandas.core.frame.DataFrame'>\n",
      "RangeIndex: 1169026 entries, 0 to 1169025\n",
      "Data columns (total 42 columns):\n",
      " #   Column            Non-Null Count    Dtype  \n",
      "---  ------            --------------    -----  \n",
      " 0   HR                1054028 non-null  float64\n",
      " 1   O2Sat             1016277 non-null  float64\n",
      " 2   Temp              395579 non-null   float64\n",
      " 3   SBP               999398 non-null   float64\n",
      " 4   MAP               1023852 non-null  float64\n",
      " 5   DBP               802396 non-null   float64\n",
      " 6   Resp              990503 non-null   float64\n",
      " 7   EtCO2             43035 non-null    float64\n",
      " 8   BaseExcess        63273 non-null    float64\n",
      " 9   HCO3              49112 non-null    float64\n",
      " 10  FiO2              97566 non-null    float64\n",
      " 11  pH                80720 non-null    float64\n",
      " 12  PaCO2             64724 non-null    float64\n",
      " 13  SaO2              39927 non-null    float64\n",
      " 14  AST               18926 non-null    float64\n",
      " 15  BUN               80301 non-null    float64\n",
      " 16  Alkalinephos      18750 non-null    float64\n",
      " 17  Calcium           68734 non-null    float64\n",
      " 18  Chloride          53179 non-null    float64\n",
      " 19  Creatinine        71415 non-null    float64\n",
      " 20  Bilirubin_direct  2194 non-null     float64\n",
      " 21  Glucose           199113 non-null   float64\n",
      " 22  Lactate           30879 non-null    float64\n",
      " 23  Magnesium         73684 non-null    float64\n",
      " 24  Phosphate         46995 non-null    float64\n",
      " 25  Potassium         108391 non-null   float64\n",
      " 26  Bilirubin_total   17417 non-null    float64\n",
      " 27  TroponinI         11065 non-null    float64\n",
      " 28  Hct               103258 non-null   float64\n",
      " 29  Hgb               86269 non-null    float64\n",
      " 30  PTT               34585 non-null    float64\n",
      " 31  WBC               74995 non-null    float64\n",
      " 32  Fibrinogen        7708 non-null     float64\n",
      " 33  Platelets         69563 non-null    float64\n",
      " 34  Age               1169026 non-null  float64\n",
      " 35  Gender            1169026 non-null  int64  \n",
      " 36  Unit1             706087 non-null   float64\n",
      " 37  Unit2             706087 non-null   float64\n",
      " 38  HospAdmTime       1169018 non-null  float64\n",
      " 39  ICULOS            1169026 non-null  int64  \n",
      " 40  SepsisLabel       1169026 non-null  int64  \n",
      " 41  Patient_id        1169026 non-null  int64  \n",
      "dtypes: float64(38), int64(4)\n",
      "memory usage: 374.6 MB\n"
     ]
    }
   ],
   "source": [
    "df_train.info()"
   ]
  },
  {
   "cell_type": "code",
   "execution_count": 75,
   "metadata": {},
   "outputs": [
    {
     "data": {
      "text/plain": [
       "0    1147951\n",
       "1      21075\n",
       "Name: SepsisLabel, dtype: int64"
      ]
     },
     "execution_count": 75,
     "metadata": {},
     "output_type": "execute_result"
    }
   ],
   "source": [
    "df_train['SepsisLabel'].value_counts()"
   ]
  },
  {
   "cell_type": "code",
   "execution_count": 76,
   "metadata": {},
   "outputs": [
    {
     "data": {
      "text/plain": [
       "0    188354\n",
       "1      2652\n",
       "Name: SepsisLabel, dtype: int64"
      ]
     },
     "execution_count": 76,
     "metadata": {},
     "output_type": "execute_result"
    }
   ],
   "source": [
    "df_val['SepsisLabel'].value_counts()"
   ]
  },
  {
   "cell_type": "code",
   "execution_count": null,
   "metadata": {},
   "outputs": [],
   "source": []
  },
  {
   "cell_type": "code",
   "execution_count": 77,
   "metadata": {},
   "outputs": [
    {
     "data": {
      "text/plain": [
       "Bilirubin_direct    99.812322\n",
       "Fibrinogen          99.340648\n",
       "TroponinI           99.053486\n",
       "Bilirubin_total     98.510127\n",
       "Alkalinephos        98.396101\n",
       "AST                 98.381045\n",
       "Lactate             97.358570\n",
       "PTT                 97.041554\n",
       "SaO2                96.584593\n",
       "EtCO2               96.318730\n",
       "Phosphate           95.979987\n",
       "HCO3                95.798896\n",
       "Chloride            95.450999\n",
       "BaseExcess          94.587546\n",
       "PaCO2               94.463425\n",
       "Calcium             94.120405\n",
       "Platelets           94.049491\n",
       "Creatinine          93.891068\n",
       "Magnesium           93.696975\n",
       "WBC                 93.584830\n",
       "BUN                 93.130948\n",
       "pH                  93.095107\n",
       "Hgb                 92.620438\n",
       "FiO2                91.654078\n",
       "Hct                 91.167177\n",
       "Potassium           90.728093\n",
       "Glucose             82.967616\n",
       "Temp                66.161659\n",
       "Unit2               39.600402\n",
       "Unit1               39.600402\n",
       "DBP                 31.362006\n",
       "Resp                15.271089\n",
       "SBP                 14.510199\n",
       "O2Sat               13.066348\n",
       "MAP                 12.418372\n",
       "HR                   9.837078\n",
       "HospAdmTime          0.000684\n",
       "SepsisLabel          0.000000\n",
       "Age                  0.000000\n",
       "Gender               0.000000\n",
       "ICULOS               0.000000\n",
       "Patient_id           0.000000\n",
       "dtype: float64"
      ]
     },
     "execution_count": 77,
     "metadata": {},
     "output_type": "execute_result"
    }
   ],
   "source": [
    "(df_train.isnull().mean()*100).sort_values(ascending=False)"
   ]
  },
  {
   "cell_type": "code",
   "execution_count": 78,
   "metadata": {},
   "outputs": [
    {
     "data": {
      "text/plain": [
       "HCO3                99.796865\n",
       "Bilirubin_direct    99.751317\n",
       "BaseExcess          99.740322\n",
       "Fibrinogen          99.459703\n",
       "Chloride            99.341905\n",
       "PTT                 99.039297\n",
       "AST                 98.220998\n",
       "Alkalinephos        98.216286\n",
       "Bilirubin_total     98.211575\n",
       "TroponinI           98.178068\n",
       "Lactate             98.022575\n",
       "SaO2                98.005298\n",
       "pH                  97.658189\n",
       "PaCO2               97.654000\n",
       "FiO2                97.651906\n",
       "Phosphate           97.033601\n",
       "Magnesium           95.178162\n",
       "WBC                 94.776604\n",
       "Platelets           94.695455\n",
       "BUN                 94.470331\n",
       "Creatinine          94.470331\n",
       "Hct                 94.200182\n",
       "Hgb                 94.160916\n",
       "Calcium             93.108593\n",
       "EtCO2               92.355738\n",
       "Potassium           92.205480\n",
       "Glucose             77.758290\n",
       "Temp                66.435086\n",
       "Unit1               29.738856\n",
       "Unit2               29.738856\n",
       "Resp                21.273154\n",
       "MAP                 14.805818\n",
       "O2Sat               14.050344\n",
       "DBP                 13.984901\n",
       "SBP                 13.961342\n",
       "HR                  12.229982\n",
       "SepsisLabel          0.000000\n",
       "Age                  0.000000\n",
       "Gender               0.000000\n",
       "HospAdmTime          0.000000\n",
       "ICULOS               0.000000\n",
       "Patient_id           0.000000\n",
       "dtype: float64"
      ]
     },
     "execution_count": 78,
     "metadata": {},
     "output_type": "execute_result"
    }
   ],
   "source": [
    "(df_val.isnull().mean()*100).sort_values(ascending=False)"
   ]
  },
  {
   "cell_type": "code",
   "execution_count": null,
   "metadata": {},
   "outputs": [],
   "source": []
  },
  {
   "cell_type": "code",
   "execution_count": 79,
   "metadata": {},
   "outputs": [],
   "source": [
    "def missing_values(df, percentage):\n",
    "\n",
    "    columns = df.columns\n",
    "    percent_missing = df.isnull().mean() * 100\n",
    "    missing_value_df = pd.DataFrame({'column_name': columns,\n",
    "                                 'percent_missing': percent_missing})\n",
    "\n",
    "    missing_drop = list(missing_value_df[missing_value_df.percent_missing>percentage].column_name)\n",
    "    df = df.drop(missing_drop, axis=1)\n",
    "    return df"
   ]
  },
  {
   "cell_type": "code",
   "execution_count": 80,
   "metadata": {},
   "outputs": [],
   "source": [
    "df_train_ad=missing_values(df_train, 70)"
   ]
  },
  {
   "cell_type": "code",
   "execution_count": 81,
   "metadata": {},
   "outputs": [],
   "source": [
    "df_val_ad=missing_values(df_val, 70)"
   ]
  },
  {
   "cell_type": "code",
   "execution_count": null,
   "metadata": {},
   "outputs": [],
   "source": []
  },
  {
   "cell_type": "code",
   "execution_count": 82,
   "metadata": {},
   "outputs": [
    {
     "data": {
      "text/plain": [
       "Index(['HR', 'O2Sat', 'Temp', 'SBP', 'MAP', 'DBP', 'Resp', 'Age', 'Gender',\n",
       "       'Unit1', 'Unit2', 'HospAdmTime', 'ICULOS', 'SepsisLabel', 'Patient_id'],\n",
       "      dtype='object')"
      ]
     },
     "execution_count": 82,
     "metadata": {},
     "output_type": "execute_result"
    }
   ],
   "source": [
    "df_val_ad.columns"
   ]
  },
  {
   "cell_type": "code",
   "execution_count": 83,
   "metadata": {},
   "outputs": [
    {
     "data": {
      "text/plain": [
       "Index(['HR', 'O2Sat', 'Temp', 'SBP', 'MAP', 'DBP', 'Resp', 'Age', 'Gender',\n",
       "       'Unit1', 'Unit2', 'HospAdmTime', 'ICULOS', 'SepsisLabel', 'Patient_id'],\n",
       "      dtype='object')"
      ]
     },
     "execution_count": 83,
     "metadata": {},
     "output_type": "execute_result"
    }
   ],
   "source": [
    "df_train_ad.columns"
   ]
  },
  {
   "cell_type": "code",
   "execution_count": null,
   "metadata": {},
   "outputs": [],
   "source": []
  },
  {
   "cell_type": "code",
   "execution_count": 84,
   "metadata": {},
   "outputs": [],
   "source": [
    "cor=df_train_ad.iloc[:,:-1].corr()"
   ]
  },
  {
   "cell_type": "code",
   "execution_count": 85,
   "metadata": {},
   "outputs": [
    {
     "data": {
      "text/html": [
       "<div>\n",
       "<style scoped>\n",
       "    .dataframe tbody tr th:only-of-type {\n",
       "        vertical-align: middle;\n",
       "    }\n",
       "\n",
       "    .dataframe tbody tr th {\n",
       "        vertical-align: top;\n",
       "    }\n",
       "\n",
       "    .dataframe thead th {\n",
       "        text-align: right;\n",
       "    }\n",
       "</style>\n",
       "<table border=\"1\" class=\"dataframe\">\n",
       "  <thead>\n",
       "    <tr style=\"text-align: right;\">\n",
       "      <th></th>\n",
       "      <th>HR</th>\n",
       "      <th>O2Sat</th>\n",
       "      <th>Temp</th>\n",
       "      <th>SBP</th>\n",
       "      <th>MAP</th>\n",
       "      <th>DBP</th>\n",
       "      <th>Resp</th>\n",
       "      <th>Age</th>\n",
       "      <th>Gender</th>\n",
       "      <th>Unit1</th>\n",
       "      <th>Unit2</th>\n",
       "      <th>HospAdmTime</th>\n",
       "      <th>ICULOS</th>\n",
       "      <th>SepsisLabel</th>\n",
       "    </tr>\n",
       "  </thead>\n",
       "  <tbody>\n",
       "    <tr>\n",
       "      <th>HR</th>\n",
       "      <td>1.000000</td>\n",
       "      <td>-0.078975</td>\n",
       "      <td>0.258653</td>\n",
       "      <td>-0.033476</td>\n",
       "      <td>0.072119</td>\n",
       "      <td>0.132079</td>\n",
       "      <td>0.229349</td>\n",
       "      <td>-0.159875</td>\n",
       "      <td>-0.033884</td>\n",
       "      <td>0.006496</td>\n",
       "      <td>-0.006496</td>\n",
       "      <td>-0.051592</td>\n",
       "      <td>0.042725</td>\n",
       "      <td>0.049917</td>\n",
       "    </tr>\n",
       "    <tr>\n",
       "      <th>O2Sat</th>\n",
       "      <td>-0.078975</td>\n",
       "      <td>1.000000</td>\n",
       "      <td>-0.033475</td>\n",
       "      <td>0.022656</td>\n",
       "      <td>0.025179</td>\n",
       "      <td>0.000873</td>\n",
       "      <td>-0.146000</td>\n",
       "      <td>-0.049622</td>\n",
       "      <td>-0.029204</td>\n",
       "      <td>-0.044525</td>\n",
       "      <td>0.044525</td>\n",
       "      <td>-0.009368</td>\n",
       "      <td>-0.046843</td>\n",
       "      <td>-0.009243</td>\n",
       "    </tr>\n",
       "    <tr>\n",
       "      <th>Temp</th>\n",
       "      <td>0.258653</td>\n",
       "      <td>-0.033475</td>\n",
       "      <td>1.000000</td>\n",
       "      <td>-0.001302</td>\n",
       "      <td>-0.064637</td>\n",
       "      <td>-0.107221</td>\n",
       "      <td>0.124660</td>\n",
       "      <td>-0.072983</td>\n",
       "      <td>0.054791</td>\n",
       "      <td>-0.219975</td>\n",
       "      <td>0.219975</td>\n",
       "      <td>0.003411</td>\n",
       "      <td>0.086189</td>\n",
       "      <td>0.049943</td>\n",
       "    </tr>\n",
       "    <tr>\n",
       "      <th>SBP</th>\n",
       "      <td>-0.033476</td>\n",
       "      <td>0.022656</td>\n",
       "      <td>-0.001302</td>\n",
       "      <td>1.000000</td>\n",
       "      <td>0.781131</td>\n",
       "      <td>0.539796</td>\n",
       "      <td>0.045375</td>\n",
       "      <td>0.020522</td>\n",
       "      <td>-0.014814</td>\n",
       "      <td>0.063833</td>\n",
       "      <td>-0.063833</td>\n",
       "      <td>0.035960</td>\n",
       "      <td>0.056508</td>\n",
       "      <td>-0.014716</td>\n",
       "    </tr>\n",
       "    <tr>\n",
       "      <th>MAP</th>\n",
       "      <td>0.072119</td>\n",
       "      <td>0.025179</td>\n",
       "      <td>-0.064637</td>\n",
       "      <td>0.781131</td>\n",
       "      <td>1.000000</td>\n",
       "      <td>0.853071</td>\n",
       "      <td>0.049704</td>\n",
       "      <td>-0.151178</td>\n",
       "      <td>0.003084</td>\n",
       "      <td>0.130546</td>\n",
       "      <td>-0.130546</td>\n",
       "      <td>0.036099</td>\n",
       "      <td>0.036099</td>\n",
       "      <td>-0.018172</td>\n",
       "    </tr>\n",
       "    <tr>\n",
       "      <th>DBP</th>\n",
       "      <td>0.132079</td>\n",
       "      <td>0.000873</td>\n",
       "      <td>-0.107221</td>\n",
       "      <td>0.539796</td>\n",
       "      <td>0.853071</td>\n",
       "      <td>1.000000</td>\n",
       "      <td>0.062555</td>\n",
       "      <td>-0.266570</td>\n",
       "      <td>0.025166</td>\n",
       "      <td>0.231803</td>\n",
       "      <td>-0.231803</td>\n",
       "      <td>0.040825</td>\n",
       "      <td>0.017893</td>\n",
       "      <td>-0.015226</td>\n",
       "    </tr>\n",
       "    <tr>\n",
       "      <th>Resp</th>\n",
       "      <td>0.229349</td>\n",
       "      <td>-0.146000</td>\n",
       "      <td>0.124660</td>\n",
       "      <td>0.045375</td>\n",
       "      <td>0.049704</td>\n",
       "      <td>0.062555</td>\n",
       "      <td>1.000000</td>\n",
       "      <td>0.028951</td>\n",
       "      <td>0.001339</td>\n",
       "      <td>0.084720</td>\n",
       "      <td>-0.084720</td>\n",
       "      <td>-0.027724</td>\n",
       "      <td>0.095496</td>\n",
       "      <td>0.048386</td>\n",
       "    </tr>\n",
       "    <tr>\n",
       "      <th>Age</th>\n",
       "      <td>-0.159875</td>\n",
       "      <td>-0.049622</td>\n",
       "      <td>-0.072983</td>\n",
       "      <td>0.020522</td>\n",
       "      <td>-0.151178</td>\n",
       "      <td>-0.266570</td>\n",
       "      <td>0.028951</td>\n",
       "      <td>1.000000</td>\n",
       "      <td>-0.029105</td>\n",
       "      <td>-0.059850</td>\n",
       "      <td>0.059850</td>\n",
       "      <td>-0.007225</td>\n",
       "      <td>0.007692</td>\n",
       "      <td>-0.001220</td>\n",
       "    </tr>\n",
       "    <tr>\n",
       "      <th>Gender</th>\n",
       "      <td>-0.033884</td>\n",
       "      <td>-0.029204</td>\n",
       "      <td>0.054791</td>\n",
       "      <td>-0.014814</td>\n",
       "      <td>0.003084</td>\n",
       "      <td>0.025166</td>\n",
       "      <td>0.001339</td>\n",
       "      <td>-0.029105</td>\n",
       "      <td>1.000000</td>\n",
       "      <td>-0.090639</td>\n",
       "      <td>0.090639</td>\n",
       "      <td>-0.001274</td>\n",
       "      <td>0.014344</td>\n",
       "      <td>0.010279</td>\n",
       "    </tr>\n",
       "    <tr>\n",
       "      <th>Unit1</th>\n",
       "      <td>0.006496</td>\n",
       "      <td>-0.044525</td>\n",
       "      <td>-0.219975</td>\n",
       "      <td>0.063833</td>\n",
       "      <td>0.130546</td>\n",
       "      <td>0.231803</td>\n",
       "      <td>0.084720</td>\n",
       "      <td>-0.059850</td>\n",
       "      <td>-0.090639</td>\n",
       "      <td>1.000000</td>\n",
       "      <td>-1.000000</td>\n",
       "      <td>0.082294</td>\n",
       "      <td>-0.006400</td>\n",
       "      <td>0.025095</td>\n",
       "    </tr>\n",
       "    <tr>\n",
       "      <th>Unit2</th>\n",
       "      <td>-0.006496</td>\n",
       "      <td>0.044525</td>\n",
       "      <td>0.219975</td>\n",
       "      <td>-0.063833</td>\n",
       "      <td>-0.130546</td>\n",
       "      <td>-0.231803</td>\n",
       "      <td>-0.084720</td>\n",
       "      <td>0.059850</td>\n",
       "      <td>0.090639</td>\n",
       "      <td>-1.000000</td>\n",
       "      <td>1.000000</td>\n",
       "      <td>-0.082294</td>\n",
       "      <td>0.006400</td>\n",
       "      <td>-0.025095</td>\n",
       "    </tr>\n",
       "    <tr>\n",
       "      <th>HospAdmTime</th>\n",
       "      <td>-0.051592</td>\n",
       "      <td>-0.009368</td>\n",
       "      <td>0.003411</td>\n",
       "      <td>0.035960</td>\n",
       "      <td>0.036099</td>\n",
       "      <td>0.040825</td>\n",
       "      <td>-0.027724</td>\n",
       "      <td>-0.007225</td>\n",
       "      <td>-0.001274</td>\n",
       "      <td>0.082294</td>\n",
       "      <td>-0.082294</td>\n",
       "      <td>1.000000</td>\n",
       "      <td>-0.079056</td>\n",
       "      <td>-0.016580</td>\n",
       "    </tr>\n",
       "    <tr>\n",
       "      <th>ICULOS</th>\n",
       "      <td>0.042725</td>\n",
       "      <td>-0.046843</td>\n",
       "      <td>0.086189</td>\n",
       "      <td>0.056508</td>\n",
       "      <td>0.036099</td>\n",
       "      <td>0.017893</td>\n",
       "      <td>0.095496</td>\n",
       "      <td>0.007692</td>\n",
       "      <td>0.014344</td>\n",
       "      <td>-0.006400</td>\n",
       "      <td>0.006400</td>\n",
       "      <td>-0.079056</td>\n",
       "      <td>1.000000</td>\n",
       "      <td>0.135437</td>\n",
       "    </tr>\n",
       "    <tr>\n",
       "      <th>SepsisLabel</th>\n",
       "      <td>0.049917</td>\n",
       "      <td>-0.009243</td>\n",
       "      <td>0.049943</td>\n",
       "      <td>-0.014716</td>\n",
       "      <td>-0.018172</td>\n",
       "      <td>-0.015226</td>\n",
       "      <td>0.048386</td>\n",
       "      <td>-0.001220</td>\n",
       "      <td>0.010279</td>\n",
       "      <td>0.025095</td>\n",
       "      <td>-0.025095</td>\n",
       "      <td>-0.016580</td>\n",
       "      <td>0.135437</td>\n",
       "      <td>1.000000</td>\n",
       "    </tr>\n",
       "  </tbody>\n",
       "</table>\n",
       "</div>"
      ],
      "text/plain": [
       "                   HR     O2Sat      Temp       SBP       MAP       DBP  \\\n",
       "HR           1.000000 -0.078975  0.258653 -0.033476  0.072119  0.132079   \n",
       "O2Sat       -0.078975  1.000000 -0.033475  0.022656  0.025179  0.000873   \n",
       "Temp         0.258653 -0.033475  1.000000 -0.001302 -0.064637 -0.107221   \n",
       "SBP         -0.033476  0.022656 -0.001302  1.000000  0.781131  0.539796   \n",
       "MAP          0.072119  0.025179 -0.064637  0.781131  1.000000  0.853071   \n",
       "DBP          0.132079  0.000873 -0.107221  0.539796  0.853071  1.000000   \n",
       "Resp         0.229349 -0.146000  0.124660  0.045375  0.049704  0.062555   \n",
       "Age         -0.159875 -0.049622 -0.072983  0.020522 -0.151178 -0.266570   \n",
       "Gender      -0.033884 -0.029204  0.054791 -0.014814  0.003084  0.025166   \n",
       "Unit1        0.006496 -0.044525 -0.219975  0.063833  0.130546  0.231803   \n",
       "Unit2       -0.006496  0.044525  0.219975 -0.063833 -0.130546 -0.231803   \n",
       "HospAdmTime -0.051592 -0.009368  0.003411  0.035960  0.036099  0.040825   \n",
       "ICULOS       0.042725 -0.046843  0.086189  0.056508  0.036099  0.017893   \n",
       "SepsisLabel  0.049917 -0.009243  0.049943 -0.014716 -0.018172 -0.015226   \n",
       "\n",
       "                 Resp       Age    Gender     Unit1     Unit2  HospAdmTime  \\\n",
       "HR           0.229349 -0.159875 -0.033884  0.006496 -0.006496    -0.051592   \n",
       "O2Sat       -0.146000 -0.049622 -0.029204 -0.044525  0.044525    -0.009368   \n",
       "Temp         0.124660 -0.072983  0.054791 -0.219975  0.219975     0.003411   \n",
       "SBP          0.045375  0.020522 -0.014814  0.063833 -0.063833     0.035960   \n",
       "MAP          0.049704 -0.151178  0.003084  0.130546 -0.130546     0.036099   \n",
       "DBP          0.062555 -0.266570  0.025166  0.231803 -0.231803     0.040825   \n",
       "Resp         1.000000  0.028951  0.001339  0.084720 -0.084720    -0.027724   \n",
       "Age          0.028951  1.000000 -0.029105 -0.059850  0.059850    -0.007225   \n",
       "Gender       0.001339 -0.029105  1.000000 -0.090639  0.090639    -0.001274   \n",
       "Unit1        0.084720 -0.059850 -0.090639  1.000000 -1.000000     0.082294   \n",
       "Unit2       -0.084720  0.059850  0.090639 -1.000000  1.000000    -0.082294   \n",
       "HospAdmTime -0.027724 -0.007225 -0.001274  0.082294 -0.082294     1.000000   \n",
       "ICULOS       0.095496  0.007692  0.014344 -0.006400  0.006400    -0.079056   \n",
       "SepsisLabel  0.048386 -0.001220  0.010279  0.025095 -0.025095    -0.016580   \n",
       "\n",
       "               ICULOS  SepsisLabel  \n",
       "HR           0.042725     0.049917  \n",
       "O2Sat       -0.046843    -0.009243  \n",
       "Temp         0.086189     0.049943  \n",
       "SBP          0.056508    -0.014716  \n",
       "MAP          0.036099    -0.018172  \n",
       "DBP          0.017893    -0.015226  \n",
       "Resp         0.095496     0.048386  \n",
       "Age          0.007692    -0.001220  \n",
       "Gender       0.014344     0.010279  \n",
       "Unit1       -0.006400     0.025095  \n",
       "Unit2        0.006400    -0.025095  \n",
       "HospAdmTime -0.079056    -0.016580  \n",
       "ICULOS       1.000000     0.135437  \n",
       "SepsisLabel  0.135437     1.000000  "
      ]
     },
     "execution_count": 85,
     "metadata": {},
     "output_type": "execute_result"
    }
   ],
   "source": [
    "cor"
   ]
  },
  {
   "cell_type": "code",
   "execution_count": 86,
   "metadata": {},
   "outputs": [
    {
     "data": {
      "text/plain": [
       "1.0    353634\n",
       "0.0    352453\n",
       "Name: Unit2, dtype: int64"
      ]
     },
     "execution_count": 86,
     "metadata": {},
     "output_type": "execute_result"
    }
   ],
   "source": [
    "df_train_ad.Unit2.value_counts()"
   ]
  },
  {
   "cell_type": "code",
   "execution_count": 87,
   "metadata": {},
   "outputs": [],
   "source": [
    "df_train_ad.drop(['Unit1','Unit2'], inplace=True, axis=1)"
   ]
  },
  {
   "cell_type": "code",
   "execution_count": 88,
   "metadata": {},
   "outputs": [],
   "source": [
    "df_val_ad.drop(['Unit1','Unit2'], inplace=True, axis=1)"
   ]
  },
  {
   "cell_type": "code",
   "execution_count": null,
   "metadata": {},
   "outputs": [],
   "source": []
  },
  {
   "cell_type": "code",
   "execution_count": 89,
   "metadata": {},
   "outputs": [
    {
     "data": {
      "text/plain": [
       "array([[<matplotlib.axes._subplots.AxesSubplot object at 0x7f1f50e287d0>,\n",
       "        <matplotlib.axes._subplots.AxesSubplot object at 0x7f1f6067ecd0>,\n",
       "        <matplotlib.axes._subplots.AxesSubplot object at 0x7f1f606a2590>,\n",
       "        <matplotlib.axes._subplots.AxesSubplot object at 0x7f1f6064fd90>],\n",
       "       [<matplotlib.axes._subplots.AxesSubplot object at 0x7f1f6060d5d0>,\n",
       "        <matplotlib.axes._subplots.AxesSubplot object at 0x7f1f605bfdd0>,\n",
       "        <matplotlib.axes._subplots.AxesSubplot object at 0x7f1f50db7610>,\n",
       "        <matplotlib.axes._subplots.AxesSubplot object at 0x7f1f50de8e10>],\n",
       "       [<matplotlib.axes._subplots.AxesSubplot object at 0x7f1f50d71990>,\n",
       "        <matplotlib.axes._subplots.AxesSubplot object at 0x7f1f50d2f350>,\n",
       "        <matplotlib.axes._subplots.AxesSubplot object at 0x7f1f50d12690>,\n",
       "        <matplotlib.axes._subplots.AxesSubplot object at 0x7f1f50cc7e90>],\n",
       "       [<matplotlib.axes._subplots.AxesSubplot object at 0x7f1f50c886d0>,\n",
       "        <matplotlib.axes._subplots.AxesSubplot object at 0x7f1f50c3bed0>,\n",
       "        <matplotlib.axes._subplots.AxesSubplot object at 0x7f1f50bfe6d0>,\n",
       "        <matplotlib.axes._subplots.AxesSubplot object at 0x7f1f50bb2ed0>]],\n",
       "      dtype=object)"
      ]
     },
     "execution_count": 89,
     "metadata": {},
     "output_type": "execute_result"
    },
    {
     "data": {
      "image/png": "[encoded data removed]",
      "text/plain": [
       "<Figure size 1440x1440 with 16 Axes>"
      ]
     },
     "metadata": {
      "needs_background": "light"
     },
     "output_type": "display_data"
    }
   ],
   "source": [
    "df_train_ad.hist(bins=20, figsize=(20,20))"
   ]
  },
  {
   "cell_type": "code",
   "execution_count": null,
   "metadata": {},
   "outputs": [],
   "source": []
  },
  {
   "cell_type": "code",
   "execution_count": 90,
   "metadata": {},
   "outputs": [],
   "source": [
    "columns = df_train_ad.columns\n",
    "_missing = df_train_ad.isnull().sum() \n",
    "missing_value_train_ad = pd.DataFrame({'column_name': columns,\n",
    "                                 '_missing': _missing})\n",
    "\n",
    "feature_missing = list(missing_value_train_ad[missing_value_train_ad._missing>0].column_name)"
   ]
  },
  {
   "cell_type": "markdown",
   "metadata": {},
   "source": [
    "### median as data is skewed"
   ]
  },
  {
   "cell_type": "code",
   "execution_count": 92,
   "metadata": {},
   "outputs": [],
   "source": [
    "for feature in feature_missing:\n",
    "    df_train_ad[feature]=df_train_ad.groupby(\"Patient_id\")[feature].transform(lambda x: x.fillna(x.median()))\n"
   ]
  },
  {
   "cell_type": "code",
   "execution_count": 93,
   "metadata": {},
   "outputs": [
    {
     "data": {
      "text/plain": [
       "DBP            197065\n",
       "SBP              8488\n",
       "Temp             5794\n",
       "MAP              1997\n",
       "Resp             1249\n",
       "O2Sat             137\n",
       "HR                 83\n",
       "HospAdmTime         8\n",
       "Patient_id          0\n",
       "SepsisLabel         0\n",
       "ICULOS              0\n",
       "Gender              0\n",
       "Age                 0\n",
       "dtype: int64"
      ]
     },
     "execution_count": 93,
     "metadata": {},
     "output_type": "execute_result"
    }
   ],
   "source": [
    "(df_train_ad.isnull().sum() ).sort_values(ascending=False)"
   ]
  },
  {
   "cell_type": "code",
   "execution_count": 94,
   "metadata": {},
   "outputs": [],
   "source": [
    "df_train_ad[\"DBP\"]=df_train_ad[\"DBP\"].fillna(df_train_ad[\"DBP\"].median())"
   ]
  },
  {
   "cell_type": "code",
   "execution_count": 95,
   "metadata": {},
   "outputs": [],
   "source": [
    "x=['DBP',\n",
    "'SBP',\n",
    "'Temp',\n",
    "'MAP',\n",
    "'Resp',\n",
    "'O2Sat',\n",
    "'HR','HospAdmTime']\n",
    "\n",
    "for i in x:\n",
    "    df_train_ad[i]=df_train_ad[i].fillna(df_train_ad[i].median())"
   ]
  },
  {
   "cell_type": "code",
   "execution_count": 96,
   "metadata": {},
   "outputs": [
    {
     "data": {
      "text/plain": [
       "Patient_id     0\n",
       "SepsisLabel    0\n",
       "ICULOS         0\n",
       "HospAdmTime    0\n",
       "Gender         0\n",
       "Age            0\n",
       "Resp           0\n",
       "DBP            0\n",
       "MAP            0\n",
       "SBP            0\n",
       "Temp           0\n",
       "O2Sat          0\n",
       "HR             0\n",
       "dtype: int64"
      ]
     },
     "execution_count": 96,
     "metadata": {},
     "output_type": "execute_result"
    }
   ],
   "source": [
    "(df_train_ad.isnull().sum() ).sort_values(ascending=False)"
   ]
  },
  {
   "cell_type": "code",
   "execution_count": 97,
   "metadata": {},
   "outputs": [
    {
     "data": {
      "text/plain": [
       "Index(['HR', 'O2Sat', 'Temp', 'SBP', 'MAP', 'DBP', 'Resp', 'Age', 'Gender',\n",
       "       'HospAdmTime', 'ICULOS', 'SepsisLabel', 'Patient_id'],\n",
       "      dtype='object')"
      ]
     },
     "execution_count": 97,
     "metadata": {},
     "output_type": "execute_result"
    }
   ],
   "source": [
    "df_train_ad.columns"
   ]
  },
  {
   "cell_type": "code",
   "execution_count": 98,
   "metadata": {},
   "outputs": [],
   "source": [
    "df_train_ad.drop('Patient_id', axis=1, inplace=True)"
   ]
  },
  {
   "cell_type": "code",
   "execution_count": 101,
   "metadata": {},
   "outputs": [],
   "source": [
    "from sklearn.feature_selection import SelectKBest, chi2\n",
    "### apply selectkBest\n",
    "ordered_rank_features=SelectKBest(score_func=chi2, k='all')\n",
    "ordered_feature=ordered_rank_features.fit(X,y)\n",
    "\n",
    "dfscores=pd.DataFrame(ordered_feature.scores_,columns=['Score'])\n",
    "dfcolumns=pd.DataFrame(df_train_ad.drop(['SepsisLabel'], axis=1).columns)\n",
    "features_rank=pd.concat([dfcolumns,dfscores], axis=1)\n",
    "features_rank.columns=['Features','Scores']\n"
   ]
  },
  {
   "cell_type": "code",
   "execution_count": 106,
   "metadata": {},
   "outputs": [
    {
     "data": {
      "text/html": [
       "<div>\n",
       "<style scoped>\n",
       "    .dataframe tbody tr th:only-of-type {\n",
       "        vertical-align: middle;\n",
       "    }\n",
       "\n",
       "    .dataframe tbody tr th {\n",
       "        vertical-align: top;\n",
       "    }\n",
       "\n",
       "    .dataframe thead th {\n",
       "        text-align: right;\n",
       "    }\n",
       "</style>\n",
       "<table border=\"1\" class=\"dataframe\">\n",
       "  <thead>\n",
       "    <tr style=\"text-align: right;\">\n",
       "      <th></th>\n",
       "      <th>Features</th>\n",
       "      <th>Scores</th>\n",
       "    </tr>\n",
       "  </thead>\n",
       "  <tbody>\n",
       "    <tr>\n",
       "      <th>10</th>\n",
       "      <td>ICULOS</td>\n",
       "      <td>2045.982119</td>\n",
       "    </tr>\n",
       "    <tr>\n",
       "      <th>8</th>\n",
       "      <td>Gender</td>\n",
       "      <td>54.508340</td>\n",
       "    </tr>\n",
       "    <tr>\n",
       "      <th>0</th>\n",
       "      <td>HR</td>\n",
       "      <td>53.849686</td>\n",
       "    </tr>\n",
       "    <tr>\n",
       "      <th>6</th>\n",
       "      <td>Resp</td>\n",
       "      <td>30.049202</td>\n",
       "    </tr>\n",
       "    <tr>\n",
       "      <th>4</th>\n",
       "      <td>MAP</td>\n",
       "      <td>6.162760</td>\n",
       "    </tr>\n",
       "    <tr>\n",
       "      <th>3</th>\n",
       "      <td>SBP</td>\n",
       "      <td>4.599830</td>\n",
       "    </tr>\n",
       "    <tr>\n",
       "      <th>5</th>\n",
       "      <td>DBP</td>\n",
       "      <td>3.058552</td>\n",
       "    </tr>\n",
       "    <tr>\n",
       "      <th>2</th>\n",
       "      <td>Temp</td>\n",
       "      <td>1.605874</td>\n",
       "    </tr>\n",
       "    <tr>\n",
       "      <th>9</th>\n",
       "      <td>HospAdmTime</td>\n",
       "      <td>0.331270</td>\n",
       "    </tr>\n",
       "    <tr>\n",
       "      <th>1</th>\n",
       "      <td>O2Sat</td>\n",
       "      <td>0.126737</td>\n",
       "    </tr>\n",
       "    <tr>\n",
       "      <th>7</th>\n",
       "      <td>Age</td>\n",
       "      <td>0.112968</td>\n",
       "    </tr>\n",
       "  </tbody>\n",
       "</table>\n",
       "</div>"
      ],
      "text/plain": [
       "       Features       Scores\n",
       "10       ICULOS  2045.982119\n",
       "8        Gender    54.508340\n",
       "0            HR    53.849686\n",
       "6          Resp    30.049202\n",
       "4           MAP     6.162760\n",
       "3           SBP     4.599830\n",
       "5           DBP     3.058552\n",
       "2          Temp     1.605874\n",
       "9   HospAdmTime     0.331270\n",
       "1         O2Sat     0.126737\n",
       "7           Age     0.112968"
      ]
     },
     "execution_count": 106,
     "metadata": {},
     "output_type": "execute_result"
    }
   ],
   "source": [
    "features_rank.nlargest(12, 'Scores')"
   ]
  },
  {
   "cell_type": "code",
   "execution_count": 107,
   "metadata": {},
   "outputs": [],
   "source": [
    "df_train_ad.drop(['Age', 'O2Sat', 'HospAdmTime'], axis=1, inplace=True)"
   ]
  },
  {
   "cell_type": "code",
   "execution_count": 108,
   "metadata": {},
   "outputs": [],
   "source": [
    "X=df_train_ad.drop(['SepsisLabel'], axis=1)\n",
    "y=df_train_ad['SepsisLabel']"
   ]
  },
  {
   "cell_type": "code",
   "execution_count": 109,
   "metadata": {},
   "outputs": [],
   "source": [
    "from sklearn.model_selection import train_test_split\n",
    "X_train,X_test,y_train,y_test = train_test_split(X,y,train_size=.7)"
   ]
  },
  {
   "cell_type": "code",
   "execution_count": 110,
   "metadata": {},
   "outputs": [
    {
     "data": {
      "text/plain": [
       "array([[0.275     , 0.55551724, 0.38530466, ..., 0.15656566, 0.        ,\n",
       "        0.00298507],\n",
       "       [0.33269231, 0.52758621, 0.55197133, ..., 0.19191919, 1.        ,\n",
       "        0.0238806 ],\n",
       "       [0.2       , 0.5137931 , 0.53405018, ..., 0.17171717, 0.        ,\n",
       "        0.09253731],\n",
       "       ...,\n",
       "       [0.29230769, 0.53655172, 0.36200717, ..., 0.25252525, 1.        ,\n",
       "        0.05671642],\n",
       "       [0.19230769, 0.54206897, 0.26523297, ..., 0.14141414, 0.        ,\n",
       "        0.03283582],\n",
       "       [0.29230769, 0.54793103, 0.45340502, ..., 0.23232323, 1.        ,\n",
       "        0.05074627]])"
      ]
     },
     "execution_count": 110,
     "metadata": {},
     "output_type": "execute_result"
    }
   ],
   "source": [
    "scaler.fit_transform(X_train)\n",
    "scaler.transform(X_test)"
   ]
  },
  {
   "cell_type": "code",
   "execution_count": 111,
   "metadata": {},
   "outputs": [],
   "source": [
    "from sklearn.preprocessing import MinMaxScaler\n",
    "scaler = MinMaxScaler()\n",
    "X=scaler.fit_transform(X)\n"
   ]
  },
  {
   "cell_type": "code",
   "execution_count": null,
   "metadata": {},
   "outputs": [],
   "source": []
  },
  {
   "cell_type": "code",
   "execution_count": 112,
   "metadata": {},
   "outputs": [
    {
     "data": {
      "text/html": [
       "<div>\n",
       "<style scoped>\n",
       "    .dataframe tbody tr th:only-of-type {\n",
       "        vertical-align: middle;\n",
       "    }\n",
       "\n",
       "    .dataframe tbody tr th {\n",
       "        vertical-align: top;\n",
       "    }\n",
       "\n",
       "    .dataframe thead th {\n",
       "        text-align: right;\n",
       "    }\n",
       "</style>\n",
       "<table border=\"1\" class=\"dataframe\">\n",
       "  <thead>\n",
       "    <tr style=\"text-align: right;\">\n",
       "      <th></th>\n",
       "      <th>HR</th>\n",
       "      <th>Temp</th>\n",
       "      <th>SBP</th>\n",
       "      <th>MAP</th>\n",
       "      <th>DBP</th>\n",
       "      <th>Resp</th>\n",
       "      <th>Gender</th>\n",
       "      <th>ICULOS</th>\n",
       "      <th>SepsisLabel</th>\n",
       "    </tr>\n",
       "  </thead>\n",
       "  <tbody>\n",
       "    <tr>\n",
       "      <th>0</th>\n",
       "      <td>76.0</td>\n",
       "      <td>36.695</td>\n",
       "      <td>119.5</td>\n",
       "      <td>83.5</td>\n",
       "      <td>64.5</td>\n",
       "      <td>16.0</td>\n",
       "      <td>1</td>\n",
       "      <td>1</td>\n",
       "      <td>0</td>\n",
       "    </tr>\n",
       "    <tr>\n",
       "      <th>1</th>\n",
       "      <td>72.0</td>\n",
       "      <td>36.695</td>\n",
       "      <td>106.0</td>\n",
       "      <td>77.0</td>\n",
       "      <td>60.0</td>\n",
       "      <td>17.0</td>\n",
       "      <td>1</td>\n",
       "      <td>2</td>\n",
       "      <td>0</td>\n",
       "    </tr>\n",
       "    <tr>\n",
       "      <th>2</th>\n",
       "      <td>73.0</td>\n",
       "      <td>36.695</td>\n",
       "      <td>109.0</td>\n",
       "      <td>79.0</td>\n",
       "      <td>62.0</td>\n",
       "      <td>16.0</td>\n",
       "      <td>1</td>\n",
       "      <td>3</td>\n",
       "      <td>0</td>\n",
       "    </tr>\n",
       "    <tr>\n",
       "      <th>3</th>\n",
       "      <td>75.0</td>\n",
       "      <td>36.390</td>\n",
       "      <td>112.0</td>\n",
       "      <td>84.0</td>\n",
       "      <td>65.0</td>\n",
       "      <td>17.0</td>\n",
       "      <td>1</td>\n",
       "      <td>4</td>\n",
       "      <td>0</td>\n",
       "    </tr>\n",
       "    <tr>\n",
       "      <th>4</th>\n",
       "      <td>81.0</td>\n",
       "      <td>36.695</td>\n",
       "      <td>117.0</td>\n",
       "      <td>85.0</td>\n",
       "      <td>68.0</td>\n",
       "      <td>16.0</td>\n",
       "      <td>1</td>\n",
       "      <td>5</td>\n",
       "      <td>0</td>\n",
       "    </tr>\n",
       "  </tbody>\n",
       "</table>\n",
       "</div>"
      ],
      "text/plain": [
       "     HR    Temp    SBP   MAP   DBP  Resp  Gender  ICULOS  SepsisLabel\n",
       "0  76.0  36.695  119.5  83.5  64.5  16.0       1       1            0\n",
       "1  72.0  36.695  106.0  77.0  60.0  17.0       1       2            0\n",
       "2  73.0  36.695  109.0  79.0  62.0  16.0       1       3            0\n",
       "3  75.0  36.390  112.0  84.0  65.0  17.0       1       4            0\n",
       "4  81.0  36.695  117.0  85.0  68.0  16.0       1       5            0"
      ]
     },
     "execution_count": 112,
     "metadata": {},
     "output_type": "execute_result"
    }
   ],
   "source": [
    "df_train_ad.head()"
   ]
  },
  {
   "cell_type": "code",
   "execution_count": 124,
   "metadata": {},
   "outputs": [],
   "source": [
    "from sklearn.ensemble import RandomForestClassifier, AdaBoostClassifier\n",
    "from sklearn.naive_bayes import GaussianNB\n",
    "\n",
    "\n",
    "from sklearn.metrics import accuracy_score, confusion_matrix, classification_report\n",
    "from sklearn.model_selection import StratifiedKFold, GridSearchCV"
   ]
  },
  {
   "cell_type": "code",
   "execution_count": null,
   "metadata": {},
   "outputs": [],
   "source": []
  },
  {
   "cell_type": "code",
   "execution_count": 114,
   "metadata": {},
   "outputs": [
    {
     "data": {
      "text/plain": [
       "RandomForestClassifier()"
      ]
     },
     "execution_count": 114,
     "metadata": {},
     "output_type": "execute_result"
    }
   ],
   "source": [
    "model1 = RandomForestClassifier()\n",
    "model1.fit(X_train, y_train)"
   ]
  },
  {
   "cell_type": "code",
   "execution_count": 115,
   "metadata": {},
   "outputs": [
    {
     "name": "stdout",
     "output_type": "stream",
     "text": [
      "[[344413     39]\n",
      " [  5821    435]]\n",
      "0.9832909428926628\n",
      "              precision    recall  f1-score   support\n",
      "\n",
      "           0       0.98      1.00      0.99    344452\n",
      "           1       0.92      0.07      0.13      6256\n",
      "\n",
      "    accuracy                           0.98    350708\n",
      "   macro avg       0.95      0.53      0.56    350708\n",
      "weighted avg       0.98      0.98      0.98    350708\n",
      "\n"
     ]
    }
   ],
   "source": [
    "y_pred=model1.predict(X_test)\n",
    "print(confusion_matrix(y_test,y_pred))\n",
    "print(accuracy_score(y_test,y_pred))\n",
    "print(classification_report(y_test,y_pred))\n"
   ]
  },
  {
   "cell_type": "code",
   "execution_count": 122,
   "metadata": {},
   "outputs": [
    {
     "data": {
      "text/plain": [
       "RandomForestClassifier(class_weight='balanced')"
      ]
     },
     "execution_count": 122,
     "metadata": {},
     "output_type": "execute_result"
    }
   ],
   "source": [
    "model1b = RandomForestClassifier(class_weight=\"balanced\")\n",
    "model1b.fit(X_train, y_train)"
   ]
  },
  {
   "cell_type": "code",
   "execution_count": 123,
   "metadata": {},
   "outputs": [
    {
     "name": "stdout",
     "output_type": "stream",
     "text": [
      "[[344413     39]\n",
      " [  5821    435]]\n",
      "0.9832909428926628\n",
      "              precision    recall  f1-score   support\n",
      "\n",
      "           0       0.98      1.00      0.99    344452\n",
      "           1       0.92      0.07      0.13      6256\n",
      "\n",
      "    accuracy                           0.98    350708\n",
      "   macro avg       0.95      0.53      0.56    350708\n",
      "weighted avg       0.98      0.98      0.98    350708\n",
      "\n"
     ]
    }
   ],
   "source": [
    "y_pred=model1.predict(X_test)\n",
    "print(confusion_matrix(y_test,y_pred))\n",
    "print(accuracy_score(y_test,y_pred))\n",
    "print(classification_report(y_test,y_pred))\n"
   ]
  },
  {
   "cell_type": "code",
   "execution_count": null,
   "metadata": {},
   "outputs": [],
   "source": []
  },
  {
   "cell_type": "code",
   "execution_count": 116,
   "metadata": {},
   "outputs": [
    {
     "data": {
      "text/plain": [
       "AdaBoostClassifier()"
      ]
     },
     "execution_count": 116,
     "metadata": {},
     "output_type": "execute_result"
    }
   ],
   "source": [
    "model2 = AdaBoostClassifier()\n",
    "model2.fit(X_train, y_train)"
   ]
  },
  {
   "cell_type": "code",
   "execution_count": 118,
   "metadata": {},
   "outputs": [
    {
     "name": "stdout",
     "output_type": "stream",
     "text": [
      "[[344372     80]\n",
      " [  6229     27]]\n",
      "0.9820106755477491\n",
      "              precision    recall  f1-score   support\n",
      "\n",
      "           0       0.98      1.00      0.99    344452\n",
      "           1       0.25      0.00      0.01      6256\n",
      "\n",
      "    accuracy                           0.98    350708\n",
      "   macro avg       0.62      0.50      0.50    350708\n",
      "weighted avg       0.97      0.98      0.97    350708\n",
      "\n"
     ]
    }
   ],
   "source": [
    "y_pred=model2.predict(X_test)\n",
    "print(confusion_matrix(y_test,y_pred))\n",
    "print(accuracy_score(y_test,y_pred))\n",
    "print(classification_report(y_test,y_pred))"
   ]
  },
  {
   "cell_type": "code",
   "execution_count": null,
   "metadata": {},
   "outputs": [],
   "source": []
  },
  {
   "cell_type": "code",
   "execution_count": 119,
   "metadata": {},
   "outputs": [
    {
     "data": {
      "text/plain": [
       "GaussianNB()"
      ]
     },
     "execution_count": 119,
     "metadata": {},
     "output_type": "execute_result"
    }
   ],
   "source": [
    "model3=GaussianNB()\n",
    "model3.fit(X_train, y_train)"
   ]
  },
  {
   "cell_type": "code",
   "execution_count": 120,
   "metadata": {},
   "outputs": [
    {
     "name": "stdout",
     "output_type": "stream",
     "text": [
      "[[336361   8091]\n",
      " [  5186   1070]]\n",
      "0.9621422950146561\n",
      "              precision    recall  f1-score   support\n",
      "\n",
      "           0       0.98      0.98      0.98    344452\n",
      "           1       0.12      0.17      0.14      6256\n",
      "\n",
      "    accuracy                           0.96    350708\n",
      "   macro avg       0.55      0.57      0.56    350708\n",
      "weighted avg       0.97      0.96      0.97    350708\n",
      "\n"
     ]
    }
   ],
   "source": [
    "y_pred=model3.predict(X_test)\n",
    "print(confusion_matrix(y_test,y_pred))\n",
    "print(accuracy_score(y_test,y_pred))\n",
    "print(classification_report(y_test,y_pred))"
   ]
  },
  {
   "cell_type": "code",
   "execution_count": null,
   "metadata": {},
   "outputs": [],
   "source": []
  },
  {
   "cell_type": "code",
   "execution_count": 125,
   "metadata": {},
   "outputs": [],
   "source": [
    "model=  RandomForestClassifier()"
   ]
  },
  {
   "cell_type": "code",
   "execution_count": 126,
   "metadata": {},
   "outputs": [],
   "source": [
    "est=[int(x) for x in np.linspace(start = 60, stop = 120, num = 7)]"
   ]
  },
  {
   "cell_type": "code",
   "execution_count": 127,
   "metadata": {},
   "outputs": [],
   "source": [
    "grid={'n_estimators':est}\n",
    "cv=StratifiedKFold(n_splits=5,random_state=None, shuffle=False)\n"
   ]
  },
  {
   "cell_type": "code",
   "execution_count": 128,
   "metadata": {},
   "outputs": [
    {
     "name": "stderr",
     "output_type": "stream",
     "text": [
      "/home/stenzr/anaconda3/lib/python3.7/site-packages/joblib/externals/loky/process_executor.py:706: UserWarning: A worker stopped while some jobs were given to the executor. This can be caused by a too short worker timeout or by a memory leak.\n",
      "  \"timeout or by a memory leak.\", UserWarning\n"
     ]
    },
    {
     "data": {
      "text/plain": [
       "GridSearchCV(cv=StratifiedKFold(n_splits=5, random_state=None, shuffle=False),\n",
       "             estimator=RandomForestClassifier(), n_jobs=-1,\n",
       "             param_grid={'n_estimators': [60, 70, 80, 90, 100, 110, 120]})"
      ]
     },
     "execution_count": 128,
     "metadata": {},
     "output_type": "execute_result"
    }
   ],
   "source": [
    "model4=GridSearchCV(model, grid, cv=cv, n_jobs=-1, scoring=None)\n",
    "model4.fit(X_train,y_train)"
   ]
  },
  {
   "cell_type": "code",
   "execution_count": 129,
   "metadata": {},
   "outputs": [
    {
     "name": "stdout",
     "output_type": "stream",
     "text": [
      "[[344415     37]\n",
      " [  5809    447]]\n",
      "0.9833308621417247\n",
      "              precision    recall  f1-score   support\n",
      "\n",
      "           0       0.98      1.00      0.99    344452\n",
      "           1       0.92      0.07      0.13      6256\n",
      "\n",
      "    accuracy                           0.98    350708\n",
      "   macro avg       0.95      0.54      0.56    350708\n",
      "weighted avg       0.98      0.98      0.98    350708\n",
      "\n"
     ]
    }
   ],
   "source": [
    "y_pred=model4.predict(X_test)\n",
    "print(confusion_matrix(y_test,y_pred))\n",
    "print(accuracy_score(y_test,y_pred))\n",
    "print(classification_report(y_test,y_pred))"
   ]
  },
  {
   "cell_type": "code",
   "execution_count": null,
   "metadata": {},
   "outputs": [],
   "source": []
  },
  {
   "cell_type": "code",
   "execution_count": 131,
   "metadata": {},
   "outputs": [
    {
     "name": "stderr",
     "output_type": "stream",
     "text": [
      "/home/stenzr/anaconda3/lib/python3.7/site-packages/joblib/externals/loky/process_executor.py:706: UserWarning: A worker stopped while some jobs were given to the executor. This can be caused by a too short worker timeout or by a memory leak.\n",
      "  \"timeout or by a memory leak.\", UserWarning\n"
     ]
    },
    {
     "data": {
      "text/plain": [
       "GridSearchCV(cv=StratifiedKFold(n_splits=5, random_state=None, shuffle=False),\n",
       "             estimator=RandomForestClassifier(), n_jobs=-1,\n",
       "             param_grid={'n_estimators': [60, 70, 80, 90, 100, 110, 120]},\n",
       "             scoring='recall')"
      ]
     },
     "execution_count": 131,
     "metadata": {},
     "output_type": "execute_result"
    }
   ],
   "source": [
    "model5=GridSearchCV(model, grid, cv=cv, n_jobs=-1, scoring='recall')\n",
    "model5.fit(X_train,y_train)"
   ]
  },
  {
   "cell_type": "code",
   "execution_count": 132,
   "metadata": {},
   "outputs": [
    {
     "name": "stdout",
     "output_type": "stream",
     "text": [
      "[[344415     37]\n",
      " [  5809    447]]\n",
      "0.9833308621417247\n",
      "              precision    recall  f1-score   support\n",
      "\n",
      "           0       0.98      1.00      0.99    344452\n",
      "           1       0.92      0.07      0.13      6256\n",
      "\n",
      "    accuracy                           0.98    350708\n",
      "   macro avg       0.95      0.54      0.56    350708\n",
      "weighted avg       0.98      0.98      0.98    350708\n",
      "\n"
     ]
    }
   ],
   "source": [
    "y_pred=model4.predict(X_test)\n",
    "print(confusion_matrix(y_test,y_pred))\n",
    "print(accuracy_score(y_test,y_pred))\n",
    "print(classification_report(y_test,y_pred))"
   ]
  },
  {
   "cell_type": "code",
   "execution_count": 135,
   "metadata": {},
   "outputs": [],
   "source": [
    "from collections import Counter\n",
    "from imblearn.over_sampling import RandomOverSampler"
   ]
  },
  {
   "cell_type": "code",
   "execution_count": 136,
   "metadata": {},
   "outputs": [],
   "source": [
    "sampler = RandomOverSampler(random_state=0)"
   ]
  },
  {
   "cell_type": "code",
   "execution_count": 137,
   "metadata": {},
   "outputs": [],
   "source": [
    "X_train_s, y_train_s = sampler.fit_resample(X_train, y_train)"
   ]
  },
  {
   "cell_type": "code",
   "execution_count": 139,
   "metadata": {},
   "outputs": [
    {
     "data": {
      "text/plain": [
       "Counter({0: 803499, 1: 14819})"
      ]
     },
     "execution_count": 139,
     "metadata": {},
     "output_type": "execute_result"
    }
   ],
   "source": [
    "Counter(y_train)"
   ]
  },
  {
   "cell_type": "code",
   "execution_count": 140,
   "metadata": {},
   "outputs": [
    {
     "data": {
      "text/plain": [
       "Counter({0: 803499, 1: 803499})"
      ]
     },
     "execution_count": 140,
     "metadata": {},
     "output_type": "execute_result"
    }
   ],
   "source": [
    "Counter(y_train_s)"
   ]
  },
  {
   "cell_type": "code",
   "execution_count": null,
   "metadata": {},
   "outputs": [],
   "source": []
  },
  {
   "cell_type": "code",
   "execution_count": 141,
   "metadata": {},
   "outputs": [
    {
     "data": {
      "text/plain": [
       "RandomForestClassifier()"
      ]
     },
     "execution_count": 141,
     "metadata": {},
     "output_type": "execute_result"
    }
   ],
   "source": [
    "model_1_os = RandomForestClassifier()\n",
    "model_1_os.fit(X_train_s, y_train_s)"
   ]
  },
  {
   "cell_type": "code",
   "execution_count": 142,
   "metadata": {},
   "outputs": [
    {
     "name": "stdout",
     "output_type": "stream",
     "text": [
      "[[344357     95]\n",
      " [  5594    662]]\n",
      "0.9837785280062046\n",
      "              precision    recall  f1-score   support\n",
      "\n",
      "           0       0.98      1.00      0.99    344452\n",
      "           1       0.87      0.11      0.19      6256\n",
      "\n",
      "    accuracy                           0.98    350708\n",
      "   macro avg       0.93      0.55      0.59    350708\n",
      "weighted avg       0.98      0.98      0.98    350708\n",
      "\n"
     ]
    }
   ],
   "source": [
    "y_pred=model_1_os.predict(X_test)\n",
    "print(confusion_matrix(y_test,y_pred))\n",
    "print(accuracy_score(y_test,y_pred))\n",
    "print(classification_report(y_test,y_pred))"
   ]
  },
  {
   "cell_type": "code",
   "execution_count": null,
   "metadata": {},
   "outputs": [],
   "source": []
  },
  {
   "cell_type": "code",
   "execution_count": 143,
   "metadata": {},
   "outputs": [],
   "source": [
    "class_weight = dict({0:1, 1:54})"
   ]
  },
  {
   "cell_type": "code",
   "execution_count": 144,
   "metadata": {},
   "outputs": [
    {
     "data": {
      "text/plain": [
       "RandomForestClassifier(class_weight={0: 1, 1: 54})"
      ]
     },
     "execution_count": 144,
     "metadata": {},
     "output_type": "execute_result"
    }
   ],
   "source": [
    "model_1_cw = RandomForestClassifier(class_weight=class_weight)\n",
    "model_1_cw.fit(X_train_s, y_train_s)"
   ]
  },
  {
   "cell_type": "code",
   "execution_count": 145,
   "metadata": {},
   "outputs": [
    {
     "name": "stdout",
     "output_type": "stream",
     "text": [
      "[[344378     74]\n",
      " [  5655    601]]\n",
      "0.9836644730088849\n",
      "              precision    recall  f1-score   support\n",
      "\n",
      "           0       0.98      1.00      0.99    344452\n",
      "           1       0.89      0.10      0.17      6256\n",
      "\n",
      "    accuracy                           0.98    350708\n",
      "   macro avg       0.94      0.55      0.58    350708\n",
      "weighted avg       0.98      0.98      0.98    350708\n",
      "\n"
     ]
    }
   ],
   "source": [
    "y_pred=model_1_cw.predict(X_test)\n",
    "print(confusion_matrix(y_test,y_pred))\n",
    "print(accuracy_score(y_test,y_pred))\n",
    "print(classification_report(y_test,y_pred))"
   ]
  },
  {
   "cell_type": "code",
   "execution_count": 147,
   "metadata": {},
   "outputs": [],
   "source": [
    "import pickle"
   ]
  },
  {
   "cell_type": "code",
   "execution_count": 149,
   "metadata": {},
   "outputs": [],
   "source": [
    "with open('model.pickle','wb') as f:\n",
    "    pickle.dump(model_1_os,f)"
   ]
  },
  {
   "cell_type": "code",
   "execution_count": 150,
   "metadata": {},
   "outputs": [],
   "source": []
  },
  {
   "cell_type": "code",
   "execution_count": null,
   "metadata": {},
   "outputs": [],
   "source": []
  }
 ],
 "metadata": {
  "kernelspec": {
   "display_name": "Python 3",
   "language": "python",
   "name": "python3"
  },
  "language_info": {
   "codemirror_mode": {
    "name": "ipython",
    "version": 3
   },
   "file_extension": ".py",
   "mimetype": "text/x-python",
   "name": "python",
   "nbconvert_exporter": "python",
   "pygments_lexer": "ipython3",
   "version": "3.7.6"
  }
 },
 "nbformat": 4,
 "nbformat_minor": 2
}
